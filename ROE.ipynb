{
  "nbformat": 4,
  "nbformat_minor": 0,
  "metadata": {
    "colab": {
      "name": "ROE.ipynb",
      "provenance": [],
      "collapsed_sections": [],
      "authorship_tag": "ABX9TyN4d4RoU9v6nxzxWZShoh3G",
      "include_colab_link": true
    },
    "kernelspec": {
      "name": "python3",
      "display_name": "Python 3"
    },
    "language_info": {
      "name": "python"
    }
  },
  "cells": [
    {
      "cell_type": "markdown",
      "metadata": {
        "id": "view-in-github",
        "colab_type": "text"
      },
      "source": [
        "<a href=\"https://colab.research.google.com/github/pubbussve/p3b/blob/main/ROE.ipynb\" target=\"_parent\"><img src=\"https://colab.research.google.com/assets/colab-badge.svg\" alt=\"Open In Colab\"/></a>"
      ]
    },
    {
      "cell_type": "markdown",
      "metadata": {
        "id": "MbSauFZubftR"
      },
      "source": [
        "# **P3B - 1/2 - ROE - ROE - Röntgenstrahlung: Bragg-Reflexion und Röntgenfluoreszenzanalyse**\n",
        "* [Versuchsanleitung](https://downloads.physik.uni-muenchen.de/praktikum/durst/p3b/ROE.pdf)\n",
        "* [Abgabe](https://moodle.lmu.de/course/view.php?id=16555&section=4#section-4)\n"
      ]
    },
    {
      "cell_type": "markdown",
      "metadata": {
        "id": "MbYBGg-Pglhm"
      },
      "source": [
        "# Teilversuch 1: Bragg-Reflexion von Röntgenstrahlung des Molybdän an einem NaCl-Einkristall\n",
        "* Untersuchung der Winkelabhängigkeit der charakteristischen Röntgenstrahlung von\n",
        "Molybdän anhand der Bragg-Reflexion an einem NaCl-Einkristall."
      ]
    },
    {
      "cell_type": "markdown",
      "metadata": {
        "id": "LIhJ7uzsgltW"
      },
      "source": [
        "# Teilversuch 2: Energiespektrum einer Röntgenröhre in Abhängigkeit der Spannung \n",
        "* Aufzeichnung verschiedener Energiespektren einer Röntgenröhre in Abhängigkeit der\n",
        "Beschleunigungsspannung des Elektronenstrahls.\n"
      ]
    },
    {
      "cell_type": "markdown",
      "metadata": {
        "id": "2C8yD0idgl3V"
      },
      "source": [
        "# Teilversuch 3: Duane-Huntsches Verschiebungsgesetz \n",
        "* Quantitative Untersuchung der Minimalwellenlänge in Abhängigkeit von der Beschleunigungsspannung; Nachweis des Duane-Huntschen Verschiebungsgesetzes."
      ]
    },
    {
      "cell_type": "markdown",
      "metadata": {
        "id": "jXMKLHxLgmCW"
      },
      "source": [
        "\n",
        "# Teilversuch 4: Röntgenfluoreszenzanalyse\n",
        "* Aufnahme von Röntgenfluoreszenz-Spektren mehrerer Elemente; Energiekalibrierung\n",
        "und Überprüfung des Moseleyschen Gesetzes für die K-Linien des charakteristischen\n",
        "Spektrums; Bestimmung der Abschirmkonstanten für die Elektronen der K-Schalen.\n"
      ]
    },
    {
      "cell_type": "markdown",
      "metadata": {
        "id": "3VD-rbpSgmLQ"
      },
      "source": [
        "# Teilversuch 5: Identifikation einer unbekannten Probe\n",
        "* Mittels Röntgenfluoreszenz werden die Bestandteile einer unbekannten selbst mitgebrachten Probe bestimmt."
      ]
    }
  ]
}