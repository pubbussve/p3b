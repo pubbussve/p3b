{
  "nbformat": 4,
  "nbformat_minor": 0,
  "metadata": {
    "colab": {
      "name": "ROE.ipynb",
      "provenance": [],
      "collapsed_sections": [],
      "authorship_tag": "ABX9TyNp0fJOs7RzVmV+89LPAjxu",
      "include_colab_link": true
    },
    "kernelspec": {
      "name": "python3",
      "display_name": "Python 3"
    },
    "language_info": {
      "name": "python"
    }
  },
  "cells": [
    {
      "cell_type": "markdown",
      "metadata": {
        "id": "view-in-github",
        "colab_type": "text"
      },
      "source": [
        "<a href=\"https://colab.research.google.com/github/pubbussve/p3b/blob/main/ROE.ipynb\" target=\"_parent\"><img src=\"https://colab.research.google.com/assets/colab-badge.svg\" alt=\"Open In Colab\"/></a>"
      ]
    },
    {
      "cell_type": "markdown",
      "metadata": {
        "id": "MbSauFZubftR"
      },
      "source": [
        "# **P3B - 1/2 - ROE - ROE - Röntgenstrahlung: Bragg-Reflexion und Röntgenfluoreszenzanalyse**\n",
        "* [Versuchsanleitung](https://downloads.physik.uni-muenchen.de/praktikum/durst/p3b/ROE.pdf)\n",
        "* [Abgabe](https://moodle.lmu.de/course/view.php?id=16555&section=4#section-4)\n"
      ]
    },
    {
      "cell_type": "code",
      "metadata": {
        "id": "rOo6q8xMbeK5"
      },
      "source": [
        ""
      ],
      "execution_count": null,
      "outputs": []
    }
  ]
}