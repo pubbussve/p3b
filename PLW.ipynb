{
  "nbformat": 4,
  "nbformat_minor": 0,
  "metadata": {
    "colab": {
      "name": "PLW.ipynb",
      "provenance": [],
      "collapsed_sections": [],
      "authorship_tag": "ABX9TyNA76aBYWP6ODEfso0gf3UT",
      "include_colab_link": true
    },
    "kernelspec": {
      "name": "python3",
      "display_name": "Python 3"
    },
    "language_info": {
      "name": "python"
    }
  },
  "cells": [
    {
      "cell_type": "markdown",
      "metadata": {
        "id": "view-in-github",
        "colab_type": "text"
      },
      "source": [
        "<a href=\"https://colab.research.google.com/github/pubbussve/p3b/blob/main/PLW.ipynb\" target=\"_parent\"><img src=\"https://colab.research.google.com/assets/colab-badge.svg\" alt=\"Open In Colab\"/></a>"
      ]
    },
    {
      "cell_type": "markdown",
      "metadata": {
        "id": "OHK2ZhYKd_DO"
      },
      "source": [
        "# **P3B - 5C - PLW - Plancksches Wirkungsquantum**\n",
        "* [Versuchsanleitung](https://downloads.physik.uni-muenchen.de/praktikum/durst/p3b/PLW.pdf)\n",
        "* [Abgabe](https://moodle.lmu.de/course/view.php?id=16555&section=13#section-13)"
      ]
    },
    {
      "cell_type": "markdown",
      "metadata": {
        "id": "9HmSfHDrgzeP"
      },
      "source": [
        "# Teilversuch 1: Bestimmung des Planckschen Wirkungsquantums mit dem äußeren Photoeffekt. - Vorversuch: Bestimmung des Quecksilberspektrums und der Absorptionsspektren der Farbfilter.\n",
        "* Mit einem Spektrometer werden die charakteristischen Wellenlängen der Quecksilberdampflampe bestimmt und die Farbfilter zugeordnet."
      ]
    },
    {
      "cell_type": "markdown",
      "metadata": {
        "id": "yT_o_ZTUgz6A"
      },
      "source": [
        "# Teilversuch 1: Bestimmung des Planckschen Wirkungsquantums mit dem äußeren Photoeffekt. - Hauptversuch: Bestimmung der U-I-Kennlinien einer Photozelle.\n",
        "* Bestimmung des Planckschen Wirkungsquantums mit einer Vakuumphotozelle\n",
        "und Quecksilberdampflampe durch den äußeren Photoeffekt."
      ]
    },
    {
      "cell_type": "markdown",
      "metadata": {
        "id": "snsFhY2ng0IP"
      },
      "source": [
        "# Teilversuch 2: Bestimmung des Planckschen Wirkungsquantums mit Leuchtdioden. \n",
        "* Bestimmung des Planckschen Wirkungsquantums durch Messen der Durchlassspannung von LEDs."
      ]
    }
  ]
}