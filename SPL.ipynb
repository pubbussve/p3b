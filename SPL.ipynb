{
  "nbformat": 4,
  "nbformat_minor": 0,
  "metadata": {
    "colab": {
      "name": "SPL.ipynb",
      "provenance": [],
      "collapsed_sections": [],
      "authorship_tag": "ABX9TyMX8dyYQmJDb1/lSrwjWO+B",
      "include_colab_link": true
    },
    "kernelspec": {
      "name": "python3",
      "display_name": "Python 3"
    },
    "language_info": {
      "name": "python"
    }
  },
  "cells": [
    {
      "cell_type": "markdown",
      "metadata": {
        "id": "view-in-github",
        "colab_type": "text"
      },
      "source": [
        "<a href=\"https://colab.research.google.com/github/pubbussve/p3b/blob/main/SPL.ipynb\" target=\"_parent\"><img src=\"https://colab.research.google.com/assets/colab-badge.svg\" alt=\"Open In Colab\"/></a>"
      ]
    },
    {
      "cell_type": "markdown",
      "metadata": {
        "id": "Ef8axLrIdTJG"
      },
      "source": [
        "# **P3B - 4C - SPL - Spektrallinien**\n",
        "* [Versuchsanleitung](https://downloads.physik.uni-muenchen.de/praktikum/durst/p3b/SPL.pdf)\n",
        "* [Abgabe](https://moodle.lmu.de/course/view.php?id=16555&section=10#section-10)"
      ]
    },
    {
      "cell_type": "code",
      "metadata": {
        "id": "Ism13l-WrO7I"
      },
      "source": [
        ""
      ],
      "execution_count": null,
      "outputs": []
    },
    {
      "cell_type": "markdown",
      "metadata": {
        "id": "jloF0n9Ag9D8"
      },
      "source": [
        "# Teilversuch 1: Spektrum eines Einelektronensystems am Beispiel Wasserstoff\n",
        "* Es werden die Wellenlängen der intensivsten Spektrallinien von Wasserstoff ermittelt.\n",
        "Anschließend wird aus den Messergebnissen die Rydbergkonstante bestimmt."
      ]
    },
    {
      "cell_type": "markdown",
      "metadata": {
        "id": "O1etIpxWg9NY"
      },
      "source": [
        "# Teilversuch 2: Helium-Spektrum (Zweielektronensystem mit leichtem Kern) \n",
        "* In diesem Teilversuch werden die Spektrallinien von Helium vermessen und die zugehörigen Wellenlängen berechnet. Aus dem Termschema können die passenden Elektronenübergänge ausgewählt werden.\n"
      ]
    },
    {
      "cell_type": "markdown",
      "metadata": {
        "id": "958w2iCCg9Ue"
      },
      "source": [
        "# Teilversuch 3: Quecksilber-Spektrum (Mehrelektronensystem mit schwerem Kern) \n",
        "* Die Wellenlängen der Quecksilberspektrallinien werden berechnet und die zugehörigen\n",
        "Elektronenübergänge aus dem Termschema bestimmt."
      ]
    },
    {
      "cell_type": "markdown",
      "metadata": {
        "id": "VxZ1Qr5xg9aA"
      },
      "source": [
        "\n",
        "# Teilversuch 4: Demonstration der Aufspaltung von Spektrallinien\n",
        "* Mit Hilfe eines Spektrogoniometers kann die Aufspaltung bestimmter Linien beobachtet\n",
        "werden.\n"
      ]
    },
    {
      "cell_type": "markdown",
      "metadata": {
        "id": "zLGhesqdg9lD"
      },
      "source": [
        "# Teilversuch 5: Qualitative Analyse der Spektren anderer Atome bzw. Moleküle\n",
        "* Es wird der Unterschied zwischen den Spektren von Atomen und Molekülen untersucht."
      ]
    },
    {
      "cell_type": "markdown",
      "metadata": {
        "id": "bZbYhLSvp2GE"
      },
      "source": [
        "# Teilversuch 6: Qualitative Analyse des Spektrums der Spektralröhre mit Luft\n",
        "* Es wird durch Vergleich des Spektrums einer Spektralröhre mit Luft mit den Spektren\n",
        "der Spektralröhren möglicher Bestandteile der Luft die Zusammensetzung der Luft\n",
        "qualitativ analysiert."
      ]
    }
  ]
}