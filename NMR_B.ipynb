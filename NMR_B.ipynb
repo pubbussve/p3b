{
  "nbformat": 4,
  "nbformat_minor": 0,
  "metadata": {
    "colab": {
      "name": "NMR-B.ipynb",
      "provenance": [],
      "collapsed_sections": [],
      "authorship_tag": "ABX9TyNQp7YuWb2Asq7wz/GxJtmZ",
      "include_colab_link": true
    },
    "kernelspec": {
      "name": "python3",
      "display_name": "Python 3"
    },
    "language_info": {
      "name": "python"
    }
  },
  "cells": [
    {
      "cell_type": "markdown",
      "metadata": {
        "id": "view-in-github",
        "colab_type": "text"
      },
      "source": [
        "<a href=\"https://colab.research.google.com/github/pubbussve/p3b/blob/main/NMR_B.ipynb\" target=\"_parent\"><img src=\"https://colab.research.google.com/assets/colab-badge.svg\" alt=\"Open In Colab\"/></a>"
      ]
    },
    {
      "cell_type": "markdown",
      "metadata": {
        "id": "AekKYNBQc2-o"
      },
      "source": [
        "# **P3B - 3C - NMR-B - Kernspinresonanz (Variante B)**\n",
        "* [Versuchsanleitung](https://downloads.physik.uni-muenchen.de/praktikum/durst/p3b/NMR_B.pdf)\n",
        "* [Abgabe](https://moodle.lmu.de/course/view.php?id=16555&section=7#section-7)"
      ]
    },
    {
      "cell_type": "markdown",
      "metadata": {
        "id": "1JeROGsOnke3"
      },
      "source": [
        "# Teilversuch 1: Vorarbeiten: Versuchsaufbau kennenlernen\n",
        "* Beobachten eines ersten Signals, Optimierung der Parameter"
      ]
    },
    {
      "cell_type": "markdown",
      "metadata": {
        "id": "I7yU_1NOnkpT"
      },
      "source": [
        "# Teilversuch 2: Ein-Puls-Betrieb\n",
        "* Bestimmung der Zerfallszeit $T_2^*$ "
      ]
    },
    {
      "cell_type": "markdown",
      "metadata": {
        "id": "bq3nD1gank4n"
      },
      "source": [
        "# Teilversuch 3: Zwei-Puls-Betrieb\n",
        "* $\\frac{\\pi}{2}−π$-Pulsfolge, Spin-Spin-Relaxationszeit $T_2$"
      ]
    },
    {
      "cell_type": "markdown",
      "metadata": {
        "id": "rSOFQWOinlGk"
      },
      "source": [
        "# Teilversuch 4: Zwei-Puls-Betrieb\n",
        "* $π−\\frac{π}{2}$-Pulsfolge, Spin-Gitter-Relaxationszeit $T_1$"
      ]
    },
    {
      "cell_type": "markdown",
      "metadata": {
        "id": "C3KH1FuhnlR1"
      },
      "source": [
        "# Teilversuch 5: 1D-Bildgebung\n",
        "* mittels Fourier-Transformation"
      ]
    },
    {
      "cell_type": "markdown",
      "metadata": {
        "id": "D7P630mbnlbh"
      },
      "source": [
        "# Teilversuch 6: Materialbestimmung  \n",
        "* (freiwillig)"
      ]
    }
  ]
}