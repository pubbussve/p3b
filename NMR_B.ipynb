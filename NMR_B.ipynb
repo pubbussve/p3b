{
  "nbformat": 4,
  "nbformat_minor": 0,
  "metadata": {
    "colab": {
      "name": "NMR-B.ipynb",
      "provenance": [],
      "collapsed_sections": [],
      "authorship_tag": "ABX9TyOaxehPlNKu36SDZyE9ALsu",
      "include_colab_link": true
    },
    "kernelspec": {
      "name": "python3",
      "display_name": "Python 3"
    },
    "language_info": {
      "name": "python"
    }
  },
  "cells": [
    {
      "cell_type": "markdown",
      "metadata": {
        "id": "view-in-github",
        "colab_type": "text"
      },
      "source": [
        "<a href=\"https://colab.research.google.com/github/pubbussve/p3b/blob/main/NMR_B.ipynb\" target=\"_parent\"><img src=\"https://colab.research.google.com/assets/colab-badge.svg\" alt=\"Open In Colab\"/></a>"
      ]
    },
    {
      "cell_type": "markdown",
      "metadata": {
        "id": "AekKYNBQc2-o"
      },
      "source": [
        "# **P3B - 3C - NMR-B - Kernspinresonanz (Variante B)**\n",
        "* [Versuchsanleitung](https://downloads.physik.uni-muenchen.de/praktikum/durst/p3b/NMR_B.pdf)\n",
        "* [Abgabe](https://moodle.lmu.de/course/view.php?id=16555&section=7#section-7)"
      ]
    },
    {
      "cell_type": "code",
      "metadata": {
        "id": "a4VnF33xc1pA"
      },
      "source": [
        ""
      ],
      "execution_count": null,
      "outputs": []
    }
  ]
}